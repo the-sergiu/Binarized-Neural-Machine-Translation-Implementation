{
 "cells": [
  {
   "cell_type": "code",
   "execution_count": 1,
   "id": "656b2f34-0bbb-46a5-90ae-f11e95eab944",
   "metadata": {},
   "outputs": [
    {
     "name": "stdout",
     "output_type": "stream",
     "text": [
      "cuda\n"
     ]
    }
   ],
   "source": [
    "import math\n",
    "from timeit import default_timer as timer\n",
    "\n",
    "from torch import Tensor\n",
    "import torch\n",
    "import torch.nn as nn\n",
    "import torch.optim as optim\n",
    "from torch.nn import Transformer\n",
    "from torch.utils.data import DataLoader\n",
    "from torchtext.data.utils import get_tokenizer\n",
    "from torch.nn import TransformerEncoder, TransformerEncoderLayer\n",
    "from torch.nn import TransformerDecoder, TransformerDecoderLayer\n",
    "from torch.optim.lr_scheduler import CosineAnnealingLR\n",
    "from torchtext.vocab import build_vocab_from_iterator\n",
    "from torchtext.datasets import multi30k, Multi30k\n",
    "from torch.nn.utils.rnn import pad_sequence\n",
    "from typing import Iterable, List\n",
    "\n",
    "device = \"cuda\" if torch.cuda.is_available() else \"cpu\"\n",
    "print(device)"
   ]
  },
  {
   "cell_type": "code",
   "execution_count": 2,
   "id": "014a448f-dd91-4810-81a4-adeb27b232c3",
   "metadata": {},
   "outputs": [],
   "source": [
    "def custom_loss(output, target, teacher_model=None, alpha=0.5, temperature=2.0):\n",
    "    \"\"\"\n",
    "    Custom loss function for knowledge distillation.\n",
    "    \n",
    "    Parameters:\n",
    "    output: Logits from the student model.\n",
    "    target: Ground truth labels or logits from the teacher model.\n",
    "    teacher_model: Pre-trained teacher model. If None, standard training is performed.\n",
    "    alpha: Weighting factor for combining the teacher and student loss.\n",
    "    temperature: Temperature for softening probabilities.\n",
    "    \"\"\"\n",
    "    student_loss = F.cross_entropy(output, target.view(-1))\n",
    "    \n",
    "    if teacher_model:\n",
    "        with torch.no_grad():\n",
    "            teacher_output = teacher_model(target)\n",
    "        teacher_output = teacher_output.view_as(output)\n",
    "\n",
    "        # Soften the outputs of both student and teacher models\n",
    "        soft_student_probs = F.log_softmax(output / temperature, dim=1)\n",
    "        soft_teacher_probs = F.softmax(teacher_output / temperature, dim=1)\n",
    "\n",
    "        # Calculate the distillation loss\n",
    "        distillation_loss = F.kl_div(soft_student_probs, soft_teacher_probs, reduction='batchmean')\n",
    "\n",
    "        # Combine the student and distillation loss\n",
    "        return alpha * distillation_loss + (1 - alpha) * student_loss\n",
    "    else:\n",
    "        return student_loss\n"
   ]
  },
  {
   "cell_type": "markdown",
   "id": "69c3306a-b975-4766-b023-1b256abaaa0d",
   "metadata": {},
   "source": [
    "## Dataset and Data Processing"
   ]
  },
  {
   "cell_type": "code",
   "execution_count": 3,
   "id": "4eb004e9-a3ef-4e5e-b792-45485aa79b85",
   "metadata": {},
   "outputs": [],
   "source": [
    "# helper function to yield list of tokens\n",
    "def yield_tokens(data_iter: Iterable, language: str) -> List[str]:\n",
    "    language_index = {SRC_LANGUAGE: 0, TGT_LANGUAGE: 1}\n",
    "\n",
    "    for data_sample in data_iter:\n",
    "        yield token_transform[language](data_sample[language_index[language]])"
   ]
  },
  {
   "cell_type": "code",
   "execution_count": 4,
   "id": "048834f3-7588-4ee8-8cb5-53097be286b1",
   "metadata": {},
   "outputs": [],
   "source": [
    "# We need to modify the URLs for the dataset since the links to the original dataset are broken\n",
    "# Refer to https://github.com/pytorch/text/issues/1756#issuecomment-1163664163 for more info\n",
    "multi30k.URL[\"train\"] = \"https://raw.githubusercontent.com/neychev/small_DL_repo/master/datasets/Multi30k/training.tar.gz\"\n",
    "multi30k.URL[\"valid\"] = \"https://raw.githubusercontent.com/neychev/small_DL_repo/master/datasets/Multi30k/validation.tar.gz\"\n",
    "\n",
    "SRC_LANGUAGE = 'en'\n",
    "TGT_LANGUAGE = 'de'\n",
    "\n",
    "# Place-holders\n",
    "token_transform = {}\n",
    "vocab_transform = {}"
   ]
  },
  {
   "cell_type": "code",
   "execution_count": 6,
   "id": "c38d7813-3ce5-40d4-8fed-11812d948ef2",
   "metadata": {},
   "outputs": [],
   "source": [
    "token_transform[SRC_LANGUAGE] = get_tokenizer('spacy', language='en_core_web_sm')\n",
    "token_transform[TGT_LANGUAGE] = get_tokenizer('spacy', language='de_core_news_sm')\n",
    "\n",
    "# Define special symbols and indices\n",
    "UNK_IDX, PAD_IDX, BOS_IDX, EOS_IDX = 0, 1, 2, 3\n",
    "# Make sure the tokens are in order of their indices to properly insert them in vocab\n",
    "special_symbols = ['<unk>', '<pad>', '<bos>', '<eos>']\n",
    "\n",
    "for ln in [SRC_LANGUAGE, TGT_LANGUAGE]:\n",
    "    # Training data Iterator\n",
    "    train_iter = Multi30k(split='train', language_pair=(SRC_LANGUAGE, TGT_LANGUAGE))\n",
    "    # Create torchtext's Vocab object\n",
    "    vocab_transform[ln] = build_vocab_from_iterator(yield_tokens(train_iter, ln),\n",
    "                                                    min_freq=1,\n",
    "                                                    specials=special_symbols,\n",
    "                                                    special_first=True)\n",
    "\n",
    "# Set ``UNK_IDX`` as the default index. This index is returned when the token is not found.\n",
    "# If not set, it throws ``RuntimeError`` when the queried token is not found in the Vocabulary.\n",
    "for ln in [SRC_LANGUAGE, TGT_LANGUAGE]:\n",
    "  vocab_transform[ln].set_default_index(UNK_IDX)"
   ]
  },
  {
   "cell_type": "code",
   "execution_count": 7,
   "id": "c29eacb8-e0a4-4da8-ae0e-090709b627c9",
   "metadata": {},
   "outputs": [],
   "source": [
    "def generate_square_subsequent_mask(sz):\n",
    "    mask = (torch.triu(torch.ones((sz, sz), device=device)) == 1).transpose(0, 1)\n",
    "    mask = mask.float().masked_fill(mask == 0, float('-inf')).masked_fill(mask == 1, float(0.0))\n",
    "    return mask"
   ]
  },
  {
   "cell_type": "code",
   "execution_count": 8,
   "id": "33e26f8a-aff2-40c0-9cc5-1eeb48383ada",
   "metadata": {},
   "outputs": [],
   "source": [
    "def create_mask(src, tgt):\n",
    "    src_seq_len = src.shape[0]\n",
    "    tgt_seq_len = tgt.shape[0]\n",
    "\n",
    "    tgt_mask = generate_square_subsequent_mask(tgt_seq_len)\n",
    "    src_mask = torch.zeros((src_seq_len, src_seq_len),device=device).type(torch.bool)\n",
    "\n",
    "    src_padding_mask = (src == PAD_IDX).transpose(0, 1)\n",
    "    tgt_padding_mask = (tgt == PAD_IDX).transpose(0, 1)\n",
    "    return src_mask, tgt_mask, src_padding_mask, tgt_padding_mask"
   ]
  },
  {
   "cell_type": "code",
   "execution_count": 9,
   "id": "73d0fb2c-29fa-4ddd-8d1b-38d751865a30",
   "metadata": {},
   "outputs": [],
   "source": [
    "# helper function to club together sequential operations\n",
    "def sequential_transforms(*transforms):\n",
    "    def func(txt_input):\n",
    "        for transform in transforms:\n",
    "            txt_input = transform(txt_input)\n",
    "        return txt_input\n",
    "    return func"
   ]
  },
  {
   "cell_type": "code",
   "execution_count": 10,
   "id": "0b0170b8-7d68-41fe-badb-0f66e51fa349",
   "metadata": {},
   "outputs": [],
   "source": [
    "# function to add BOS/EOS and create tensor for input sequence indices\n",
    "def tensor_transform(token_ids: List[int]):\n",
    "    return torch.cat((torch.tensor([BOS_IDX]),\n",
    "                      torch.tensor(token_ids),\n",
    "                      torch.tensor([EOS_IDX])))"
   ]
  },
  {
   "cell_type": "code",
   "execution_count": 11,
   "id": "a8d24bbb-f661-4af6-ba65-d8ece15d2c7d",
   "metadata": {},
   "outputs": [],
   "source": [
    "# ``src`` and ``tgt`` language text transforms to convert raw strings into tensors indices\n",
    "text_transform = {}\n",
    "for ln in [SRC_LANGUAGE, TGT_LANGUAGE]:\n",
    "    text_transform[ln] = sequential_transforms(token_transform[ln], #Tokenization\n",
    "                                               vocab_transform[ln], #Numericalization\n",
    "                                               tensor_transform) # Add BOS/EOS and create tensor"
   ]
  },
  {
   "cell_type": "code",
   "execution_count": 12,
   "id": "a2fc7bf8-4d3f-4114-b69c-f511b890d33e",
   "metadata": {},
   "outputs": [],
   "source": [
    "# function to collate data samples into batch tensors\n",
    "def collate_fn(batch):\n",
    "    src_batch, tgt_batch = [], []\n",
    "    for src_sample, tgt_sample in batch:\n",
    "        src_batch.append(text_transform[SRC_LANGUAGE](src_sample.rstrip(\"\\n\")))\n",
    "        tgt_batch.append(text_transform[TGT_LANGUAGE](tgt_sample.rstrip(\"\\n\")))\n",
    "\n",
    "    src_batch = pad_sequence(src_batch, padding_value=PAD_IDX)\n",
    "    tgt_batch = pad_sequence(tgt_batch, padding_value=PAD_IDX)\n",
    "    return src_batch, tgt_batch"
   ]
  },
  {
   "cell_type": "markdown",
   "id": "3b8bf2d0-1844-4251-8140-ac79330a13cc",
   "metadata": {},
   "source": [
    "## Model\n",
    "- We use a 6L6L Transformer as the base model.\n",
    "- Embedding dimension is 1024. Each multi-head attention layer has 16 heads, with a dimension of 1024 for \n",
    "QKV if combining all the heads.\n",
    "- The hidden projection dimension in FFNs is 4096.\n",
    "- Dropout layers has a dropout rate of 0.1.\n",
    "- We use a batch size of 1024."
   ]
  },
  {
   "cell_type": "code",
   "execution_count": 13,
   "id": "c87cc69e-826f-4f6d-a390-8734a2651e75",
   "metadata": {},
   "outputs": [],
   "source": [
    "# helper Module that adds positional encoding to the token embedding to introduce a notion of word order.\n",
    "class PositionalEncoding(nn.Module):\n",
    "    def __init__(self,\n",
    "                 emb_size: int,\n",
    "                 dropout: float,\n",
    "                 maxlen: int = 5000):\n",
    "        super(PositionalEncoding, self).__init__()\n",
    "        den = torch.exp(- torch.arange(0, emb_size, 2)* math.log(10000) / emb_size)\n",
    "        pos = torch.arange(0, maxlen).reshape(maxlen, 1)\n",
    "        pos_embedding = torch.zeros((maxlen, emb_size))\n",
    "        pos_embedding[:, 0::2] = torch.sin(pos * den)\n",
    "        pos_embedding[:, 1::2] = torch.cos(pos * den)\n",
    "        pos_embedding = pos_embedding.unsqueeze(-2)\n",
    "\n",
    "        self.dropout = nn.Dropout(dropout)\n",
    "        self.register_buffer('pos_embedding', pos_embedding)\n",
    "\n",
    "    def forward(self, token_embedding: Tensor):\n",
    "        return self.dropout(token_embedding + self.pos_embedding[:token_embedding.size(0), :])\n",
    "\n",
    "# helper Module to convert tensor of input indices into corresponding tensor of token embeddings\n",
    "class TokenEmbedding(nn.Module):\n",
    "    def __init__(self, vocab_size: int, emb_size):\n",
    "        super(TokenEmbedding, self).__init__()\n",
    "        self.embedding = nn.Embedding(vocab_size, emb_size)\n",
    "        self.emb_size = emb_size\n",
    "\n",
    "    def forward(self, tokens: Tensor):\n",
    "        return self.embedding(tokens.long()) * math.sqrt(self.emb_size)\n",
    "\n",
    "class SixLTransformer(nn.Module):\n",
    "    def __init__(self,\n",
    "                 num_encoder_layers: int,\n",
    "                 num_decoder_layers: int,\n",
    "                 emb_size: int,\n",
    "                 nhead: int,\n",
    "                 src_vocab_size: int,\n",
    "                 tgt_vocab_size: int,\n",
    "                 dim_feedforward: int = 1024,\n",
    "                 dropout: float = 0.1):\n",
    "        super(SixLTransformer, self).__init__()\n",
    "        self.transformer = Transformer(d_model=emb_size,\n",
    "                                       nhead=nhead,\n",
    "                                       num_encoder_layers=num_encoder_layers,\n",
    "                                       num_decoder_layers=num_decoder_layers,\n",
    "                                       dim_feedforward=dim_feedforward,\n",
    "                                       dropout=dropout)\n",
    "        self.generator = nn.Linear(emb_size, tgt_vocab_size)\n",
    "        self.src_tok_emb = TokenEmbedding(src_vocab_size, emb_size)\n",
    "        self.tgt_tok_emb = TokenEmbedding(tgt_vocab_size, emb_size)\n",
    "        self.positional_encoding = PositionalEncoding(\n",
    "            emb_size, dropout=dropout)\n",
    "\n",
    "    def forward(self,\n",
    "                src: Tensor,\n",
    "                trg: Tensor,\n",
    "                src_mask: Tensor,\n",
    "                tgt_mask: Tensor,\n",
    "                src_padding_mask: Tensor,\n",
    "                tgt_padding_mask: Tensor,\n",
    "                memory_key_padding_mask: Tensor):\n",
    "        src_emb = self.positional_encoding(self.src_tok_emb(src))\n",
    "        tgt_emb = self.positional_encoding(self.tgt_tok_emb(trg))\n",
    "        outs = self.transformer(src_emb, tgt_emb, src_mask, tgt_mask, None,\n",
    "                                src_padding_mask, tgt_padding_mask, memory_key_padding_mask)\n",
    "        return self.generator(outs)\n",
    "\n",
    "    def encode(self, src: Tensor, src_mask: Tensor):\n",
    "        return self.transformer.encoder(self.positional_encoding(\n",
    "                            self.src_tok_emb(src)), src_mask)\n",
    "\n",
    "    def decode(self, tgt: Tensor, memory: Tensor, tgt_mask: Tensor):\n",
    "        return self.transformer.decoder(self.positional_encoding(\n",
    "                          self.tgt_tok_emb(tgt)), memory,\n",
    "                          tgt_mask)"
   ]
  },
  {
   "cell_type": "code",
   "execution_count": 14,
   "id": "e0aad92a-cd02-4de0-9d9a-d247d38094c3",
   "metadata": {},
   "outputs": [],
   "source": [
    "torch.manual_seed(0)\n",
    "\n",
    "SRC_VOCAB_SIZE = len(vocab_transform[SRC_LANGUAGE])\n",
    "TGT_VOCAB_SIZE = len(vocab_transform[TGT_LANGUAGE])\n",
    "EMB_SIZE = 1024\n",
    "NHEAD = 16\n",
    "FFN_HID_DIM = 4096\n",
    "BATCH_SIZE = 128\n",
    "NUM_ENCODER_LAYERS = 6\n",
    "NUM_DECODER_LAYERS = 6\n",
    "\n",
    "model = SixLTransformer(NUM_ENCODER_LAYERS, NUM_DECODER_LAYERS, EMB_SIZE,\n",
    "                                 NHEAD, SRC_VOCAB_SIZE, TGT_VOCAB_SIZE, FFN_HID_DIM)\n",
    "\n",
    "for p in model.parameters():\n",
    "    if p.dim() > 1:\n",
    "        nn.init.xavier_uniform_(p)\n",
    "\n",
    "model = model.to(device)"
   ]
  },
  {
   "cell_type": "markdown",
   "id": "4397bb55-74a7-4fc3-bc06-c93ac9eae043",
   "metadata": {},
   "source": [
    "## Optimizer\n",
    "- Adam optimizer (Kingma & Ba, 2014) is used with β1 = 0.9 and β2 = 0.98.\n",
    "- No weight decay is applied.\n",
    "- Base learning rate is 0.001. "
   ]
  },
  {
   "cell_type": "code",
   "execution_count": 15,
   "id": "2b6b01ae-8e14-4195-9241-195e45b70c07",
   "metadata": {},
   "outputs": [],
   "source": [
    "optimizer = torch.optim.Adam(model.parameters(), lr=0.0001, betas=(0.9, 0.98), eps=1e-9)"
   ]
  },
  {
   "cell_type": "markdown",
   "id": "69ac5462-928d-4df9-9e47-9915cb50276d",
   "metadata": {},
   "source": [
    "## Scheduler\n",
    "- We adopt a three-stage training scheme, where the learning rate (LR) of each stage decreases from base to zero following a cosine decay.\n",
    "- The first LR cycle has 50000 steps, others have 88339 steps.\n",
    "- A quantization event starts at the beginning of each stage.\n",
    "- **We first train the model in float.**\n",
    "- In the second stage, all weights will be binarized.\n",
    "- In the last stage, both weights and activations will be binarized."
   ]
  },
  {
   "cell_type": "code",
   "execution_count": 16,
   "id": "86ca6d86-a4b4-412a-8667-0234298c8333",
   "metadata": {},
   "outputs": [],
   "source": [
    "# Scheduler First Cycle\n",
    "scheduler = CosineAnnealingLR(optimizer, T_max=50000)  # Adjust T_max based on training stages\n",
    "\n",
    "# Scheduler Second and Third Cycle\n",
    "# scheduler = CosineAnnealingLR(optimizer, T_max=88339)"
   ]
  },
  {
   "cell_type": "markdown",
   "id": "e19e0e9c-9ba5-488f-b181-5124de5baa09",
   "metadata": {},
   "source": [
    "## TODO: Loss with Knowledge Distillation\n",
    "- We apply knowledge distillation (KD) during training.\n",
    "- KD can be implemented by replacing the ground truth label in the cross-entropy loss function with the softmaxed logits from the teacher model, so it is optional for users.\n"
   ]
  },
  {
   "cell_type": "code",
   "execution_count": 17,
   "id": "ad1a4f6f-48c4-45c3-bb6e-d3110cb0ef7a",
   "metadata": {},
   "outputs": [],
   "source": [
    "# This is the normal Cross Entropy Loss, used by default when training the Transformer Architecture\n",
    "loss_fn = torch.nn.CrossEntropyLoss(ignore_index=PAD_IDX)"
   ]
  },
  {
   "cell_type": "markdown",
   "id": "35baf681-0d7f-4b3e-977c-eec58277765b",
   "metadata": {},
   "source": [
    "## Training and Evaluation"
   ]
  },
  {
   "cell_type": "code",
   "execution_count": 18,
   "id": "6c7b4a32-03ef-44d3-9218-e484a712d55a",
   "metadata": {},
   "outputs": [],
   "source": [
    "def train_epoch(model, optimizer):\n",
    "    model.train()\n",
    "    losses = 0\n",
    "    train_iter = Multi30k(split='train', language_pair=(SRC_LANGUAGE, TGT_LANGUAGE))\n",
    "    train_dataloader = DataLoader(train_iter, batch_size=BATCH_SIZE, collate_fn=collate_fn)\n",
    "\n",
    "    for src, tgt in train_dataloader:\n",
    "        src = src.to(device)\n",
    "        tgt = tgt.to(device)\n",
    "\n",
    "        tgt_input = tgt[:-1, :]\n",
    "\n",
    "        src_mask, tgt_mask, src_padding_mask, tgt_padding_mask = create_mask(src, tgt_input)\n",
    "\n",
    "        logits = model(src, tgt_input, src_mask, tgt_mask,src_padding_mask, tgt_padding_mask, src_padding_mask)\n",
    "\n",
    "        optimizer.zero_grad()\n",
    "\n",
    "        tgt_out = tgt[1:, :]\n",
    "        loss = loss_fn(logits.reshape(-1, logits.shape[-1]), tgt_out.reshape(-1))\n",
    "        loss.backward()\n",
    "\n",
    "        optimizer.step()\n",
    "        losses += loss.item()\n",
    "    \n",
    "    # Update the learning rate\n",
    "    scheduler.step()\n",
    "\n",
    "    return losses / len(list(train_dataloader))"
   ]
  },
  {
   "cell_type": "code",
   "execution_count": 19,
   "id": "c0a3c97d-5db7-468e-a4ab-b4f17fc60023",
   "metadata": {},
   "outputs": [],
   "source": [
    "def evaluate(model):\n",
    "    model.eval()\n",
    "    losses = 0\n",
    "\n",
    "    val_iter = Multi30k(split='valid', language_pair=(SRC_LANGUAGE, TGT_LANGUAGE))\n",
    "    val_dataloader = DataLoader(val_iter, batch_size=BATCH_SIZE, collate_fn=collate_fn)\n",
    "\n",
    "    for src, tgt in val_dataloader:\n",
    "        src = src.to(device)\n",
    "        tgt = tgt.to(device)\n",
    "\n",
    "        tgt_input = tgt[:-1, :]\n",
    "\n",
    "        src_mask, tgt_mask, src_padding_mask, tgt_padding_mask = create_mask(src, tgt_input)\n",
    "\n",
    "        logits = model(src, tgt_input, src_mask, tgt_mask,src_padding_mask, tgt_padding_mask, src_padding_mask)\n",
    "\n",
    "        tgt_out = tgt[1:, :]\n",
    "        loss = loss_fn(logits.reshape(-1, logits.shape[-1]), tgt_out.reshape(-1))\n",
    "        losses += loss.item()\n",
    "\n",
    "    return losses / len(list(val_dataloader))"
   ]
  },
  {
   "cell_type": "code",
   "execution_count": 20,
   "id": "add0eaf2-0cd4-4517-af40-f69a51bcd84d",
   "metadata": {},
   "outputs": [
    {
     "name": "stdout",
     "output_type": "stream",
     "text": [
      "Epoch: 1, Train loss: 5.637, Val loss: 5.068, Epoch time = 75.165s\n",
      "Epoch: 2, Train loss: 4.427, Val loss: 4.279, Epoch time = 73.676s\n",
      "Epoch: 3, Train loss: 3.847, Val loss: 3.974, Epoch time = 73.981s\n",
      "Epoch: 4, Train loss: 3.528, Val loss: 3.869, Epoch time = 74.970s\n",
      "Epoch: 5, Train loss: 3.325, Val loss: 3.724, Epoch time = 73.664s\n",
      "Epoch: 6, Train loss: 3.146, Val loss: 3.636, Epoch time = 73.220s\n",
      "Epoch: 7, Train loss: 3.007, Val loss: 3.614, Epoch time = 73.260s\n",
      "Epoch: 8, Train loss: 2.884, Val loss: 3.531, Epoch time = 73.136s\n",
      "Epoch: 9, Train loss: 2.753, Val loss: 3.466, Epoch time = 73.336s\n",
      "Epoch: 10, Train loss: 2.632, Val loss: 3.459, Epoch time = 73.561s\n",
      "Epoch: 11, Train loss: 2.537, Val loss: 3.468, Epoch time = 73.848s\n",
      "Epoch: 12, Train loss: 2.419, Val loss: 3.392, Epoch time = 73.041s\n",
      "Epoch: 13, Train loss: 2.304, Val loss: 3.328, Epoch time = 73.227s\n",
      "Epoch: 14, Train loss: 2.204, Val loss: 3.312, Epoch time = 73.132s\n",
      "Epoch: 15, Train loss: 2.105, Val loss: 3.320, Epoch time = 72.997s\n",
      "Epoch: 16, Train loss: 1.991, Val loss: 3.333, Epoch time = 72.918s\n",
      "Epoch: 17, Train loss: 1.891, Val loss: 3.313, Epoch time = 73.027s\n",
      "Epoch: 18, Train loss: 1.802, Val loss: 3.273, Epoch time = 73.185s\n",
      "Epoch: 19, Train loss: 1.699, Val loss: 3.251, Epoch time = 73.265s\n",
      "Epoch: 20, Train loss: 1.595, Val loss: 3.261, Epoch time = 73.329s\n"
     ]
    }
   ],
   "source": [
    "NUM_EPOCHS = 20\n",
    "\n",
    "for epoch in range(1, NUM_EPOCHS+1):\n",
    "    start_time = timer()\n",
    "    train_loss = train_epoch(model, optimizer)\n",
    "    end_time = timer()\n",
    "    val_loss = evaluate(model)\n",
    "    print((f\"Epoch: {epoch}, Train loss: {train_loss:.3f}, Val loss: {val_loss:.3f}, \"f\"Epoch time = {(end_time - start_time):.3f}s\"))"
   ]
  },
  {
   "cell_type": "markdown",
   "id": "68769d9e-316f-4958-b7e1-adaddedaaf15",
   "metadata": {},
   "source": [
    "## Testing it Works"
   ]
  },
  {
   "cell_type": "code",
   "execution_count": 24,
   "id": "94cf23ba-7b0f-4cc1-a10d-1060f4d17505",
   "metadata": {},
   "outputs": [],
   "source": [
    "# function to generate output sequence using greedy algorithm\n",
    "def greedy_decode(model, src, src_mask, max_len, start_symbol):\n",
    "    src = src.to(device)\n",
    "    src_mask = src_mask.to(device)\n",
    "\n",
    "    memory = model.encode(src, src_mask)\n",
    "    ys = torch.ones(1, 1).fill_(start_symbol).type(torch.long).to(device)\n",
    "    for i in range(max_len-1):\n",
    "        memory = memory.to(device)\n",
    "        tgt_mask = (generate_square_subsequent_mask(ys.size(0))\n",
    "                    .type(torch.bool)).to(device)\n",
    "        out = model.decode(ys, memory, tgt_mask)\n",
    "        out = out.transpose(0, 1)\n",
    "        prob = model.generator(out[:, -1])\n",
    "        _, next_word = torch.max(prob, dim=1)\n",
    "        next_word = next_word.item()\n",
    "\n",
    "        ys = torch.cat([ys,\n",
    "                        torch.ones(1, 1).type_as(src.data).fill_(next_word)], dim=0)\n",
    "        if next_word == EOS_IDX:\n",
    "            break\n",
    "    return ys"
   ]
  },
  {
   "cell_type": "code",
   "execution_count": 25,
   "id": "f50f5569-3237-4cb8-8627-e75fd35529a8",
   "metadata": {},
   "outputs": [],
   "source": [
    "# actual function to translate input sentence into target language\n",
    "def translate(model: torch.nn.Module, src_sentence: str):\n",
    "    model.eval()\n",
    "    src = text_transform[SRC_LANGUAGE](src_sentence).view(-1, 1)\n",
    "    num_tokens = src.shape[0]\n",
    "    src_mask = (torch.zeros(num_tokens, num_tokens)).type(torch.bool)\n",
    "    tgt_tokens = greedy_decode(\n",
    "        model,  src, src_mask, max_len=num_tokens + 5, start_symbol=BOS_IDX).flatten()\n",
    "    return \" \".join(vocab_transform[TGT_LANGUAGE].lookup_tokens(list(tgt_tokens.cpu().numpy()))).replace(\"<bos>\", \"\").replace(\"<eos>\", \"\")"
   ]
  },
  {
   "cell_type": "code",
   "execution_count": 29,
   "id": "4166a24f-dfd8-4344-a2a3-45bc58f65c6e",
   "metadata": {},
   "outputs": [
    {
     "name": "stdout",
     "output_type": "stream",
     "text": [
      " Ein Bauarbeiter wartet auf den nächsten Zug . \n"
     ]
    }
   ],
   "source": [
    "print(translate(model, \"It is cold outside .\")) "
   ]
  },
  {
   "cell_type": "markdown",
   "id": "e7aa726f-42e2-4f60-ad53-6a2487986e92",
   "metadata": {},
   "source": [
    "Actual translation: `A construction worker waits for the next train`\n",
    "\n",
    "**Translation is off, but at least words form coherent sentences. We would probably need to train a lot more for actual translations.**"
   ]
  },
  {
   "cell_type": "markdown",
   "id": "196b4a9e-b34b-4c70-bb40-ab70bcbff7c7",
   "metadata": {},
   "source": [
    "## Binarization of Transformer Model\n",
    "The function of casting floating-point values into binary Binarized Neural Machine Translation values is summarized as follows:\n",
    "\n",
    "$$\n",
    "\\text{clip}(x, x_{\\min}, x_{\\max}) := \\min(x_{\\max}, \\max(x_{\\min}, x))\n",
    "$$\n",
    "\n",
    "$$\n",
    "x_b := \\left\\lfloor \\text{clip}\\left( x, -1 + \\varepsilon, 1 - \\varepsilon \\right) + 0.5 \\right\\rfloor \\times B\n",
    "$$\n",
    "\n",
    "where $x$ is the input tensor, $\\varepsilon$ is a small floating-point number that prevents overflow when taking the floor, and $B$ is the binarization bound.\n"
   ]
  },
  {
   "cell_type": "code",
   "execution_count": 35,
   "id": "2a3d6338-421d-4083-a046-21f246cd2150",
   "metadata": {},
   "outputs": [],
   "source": [
    "def binarize_weights(model, epsilon=0.1):\n",
    "    with torch.no_grad():\n",
    "        for p in model.parameters():\n",
    "            if p.dim() > 1:\n",
    "                # Clip the weights to the range [-1 + ε, 1 - ε]\n",
    "                clipped = p.data.clamp(-1 + epsilon, 1 - epsilon)\n",
    "                # Scale and floor the weights to get binary values\n",
    "                p.data = torch.floor((clipped + 1 - epsilon) * 0.5) * 2 - 1\n",
    "\n",
    "# Initialize the model\n",
    "binarized_model = SixLTransformer(NUM_ENCODER_LAYERS, NUM_DECODER_LAYERS, EMB_SIZE, NHEAD, SRC_VOCAB_SIZE, TGT_VOCAB_SIZE, FFN_HID_DIM)\n",
    "\n",
    "for p in binarized_model.parameters():\n",
    "    if p.dim() > 1:\n",
    "        nn.init.xavier_uniform_(p)\n",
    "\n",
    "# Binarize the weights of the model\n",
    "binarize_weights(binarized_model)\n",
    "\n",
    "binarized_model = binarized_model.to(device)\n"
   ]
  },
  {
   "cell_type": "code",
   "execution_count": 36,
   "id": "63c15194-0e26-4124-ad45-4363cfc34fef",
   "metadata": {},
   "outputs": [
    {
     "name": "stdout",
     "output_type": "stream",
     "text": [
      "Epoch: 1, Train loss: 9.869, Val loss: 4.610, Epoch time = 72.122s\n",
      "Epoch: 2, Train loss: 9.869, Val loss: 4.610, Epoch time = 72.486s\n",
      "Epoch: 3, Train loss: 9.869, Val loss: 4.610, Epoch time = 72.014s\n"
     ]
    }
   ],
   "source": [
    "NUM_EPOCHS = 3\n",
    "\n",
    "for epoch in range(1, NUM_EPOCHS+1):\n",
    "    start_time = timer()\n",
    "    train_loss = train_epoch(binarized_model, optimizer)\n",
    "    end_time = timer()\n",
    "    val_loss = evaluate(model)\n",
    "    print((f\"Epoch: {epoch}, Train loss: {train_loss:.3f}, Val loss: {val_loss:.3f}, \"f\"Epoch time = {(end_time - start_time):.3f}s\"))"
   ]
  }
 ],
 "metadata": {
  "kernelspec": {
   "display_name": "Python 3 (ipykernel)",
   "language": "python",
   "name": "python3"
  },
  "language_info": {
   "codemirror_mode": {
    "name": "ipython",
    "version": 3
   },
   "file_extension": ".py",
   "mimetype": "text/x-python",
   "name": "python",
   "nbconvert_exporter": "python",
   "pygments_lexer": "ipython3",
   "version": "3.10.13"
  }
 },
 "nbformat": 4,
 "nbformat_minor": 5
}
